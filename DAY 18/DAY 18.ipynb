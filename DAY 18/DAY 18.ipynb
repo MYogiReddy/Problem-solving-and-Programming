{
 "cells": [
  {
   "cell_type": "markdown",
   "metadata": {},
   "source": [
    "# Problem Solving and Progarmming\n",
    "\n",
    "## Day No. - 18\n",
    "\n",
    "## Date - 16 May 2019"
   ]
  },
  {
   "cell_type": "markdown",
   "metadata": {},
   "source": [
    "### Day Outcomes:\n",
    "    1. File Handling\n",
    "    2. External Libraries\n",
    "    3. Functional Programming"
   ]
  },
  {
   "cell_type": "markdown",
   "metadata": {},
   "source": [
    "### File Handling"
   ]
  },
  {
   "cell_type": "markdown",
   "metadata": {},
   "source": [
    "### Problem 1:\n",
    "\n",
    "#### Problem Statement\n",
    "Define a Function to Read Data from a Text File.\n",
    "\n",
    "\n",
    "#### Constraints\n",
    "\n",
    "\n",
    "\n",
    "#### Test Cases:\n",
    "\n",
    "* Test Case 1\n",
    "* Test Case 2\n",
    "* Test Case 3"
   ]
  },
  {
   "cell_type": "code",
   "execution_count": null,
   "metadata": {},
   "outputs": [],
   "source": [
    "def readFileData(filename):\n",
    "    with open(filename, 'r') as f:\n",
    "        for line in f:\n",
    "            print(line, end='')\n",
    "    return \n",
    "\n",
    "readFileData('DataFiles/data.txt')"
   ]
  },
  {
   "cell_type": "code",
   "execution_count": null,
   "metadata": {},
   "outputs": [],
   "source": [
    "def readFileData(filename):\n",
    "    with open(filename, 'r') as f:\n",
    "        print(f.read())\n",
    "    return \n",
    "\n",
    "readFileData('DataFiles/data.txt')"
   ]
  },
  {
   "cell_type": "code",
   "execution_count": null,
   "metadata": {},
   "outputs": [],
   "source": [
    "def writeIntoFile(filename, beta, mode):\n",
    "    with open(filename, mode) as g:     #mode='r'  'w'  'a'\n",
    "        g.write(beta)\n",
    "    return\n",
    "\n",
    "writeIntoFile('DataFiles/fileWrite.txt','beta 1 \\n','a')"
   ]
  },
  {
   "cell_type": "markdown",
   "metadata": {},
   "source": [
    "### Problem 2:\n",
    "\n",
    "#### Problem Statement\n",
    "Define a function to generate a Marks Data file(text file) for 1300 students such that each mark is entered in a new file. Marks range from 0 to 100(inclusive) as random numbers.\n",
    "\n",
    "\n",
    "#### Constraints\n",
    "\n",
    "\n",
    "\n",
    "#### Test Cases:\n",
    "\n",
    "* Test Case 1\n",
    "* Test Case 2\n",
    "* Test Case 3"
   ]
  },
  {
   "cell_type": "code",
   "execution_count": null,
   "metadata": {},
   "outputs": [],
   "source": [
    "import random\n",
    "def generateMarks(filename, n):\n",
    "    with open(filename, 'w') as d:\n",
    "        for i in range(0,n):\n",
    "            marks=random.randrange(0+1,101) \n",
    "            d.write(str(marks)+'\\n')\n",
    "    return\n",
    "\n",
    "\n",
    "    \n",
    "generateMarks('DataFiles/Mark1300.txt',1300)"
   ]
  },
  {
   "cell_type": "markdown",
   "metadata": {},
   "source": [
    "### Problem 3:\n",
    "\n",
    "#### Problem Statement\n",
    "Generate a report on the marks data with the following indicators\n",
    "Generate a report on marks data with the following indicators\n",
    "\n",
    "* Highest mark :\n",
    "* Lowest mark :\n",
    "* Average marrk :\n",
    "* No. of students with distinction(>80) :\n",
    "* No. of students with first class(>60) :\n",
    "* No. of students with second class(>50) :\n",
    "* No. of students with third class(>40) :\n",
    "* No. of students failed (<40) :\n",
    "\n",
    "\n",
    "\n",
    "#### Constraints\n",
    "\n",
    "\n",
    "\n",
    "#### Test Cases:\n",
    "\n",
    "* Test Case 1\n",
    "* Test Case 2\n",
    "* Test Case 3"
   ]
  },
  {
   "cell_type": "code",
   "execution_count": 6,
   "metadata": {},
   "outputs": [
    {
     "name": "stdout",
     "output_type": "stream",
     "text": [
      "100\n",
      "1\n",
      "49.512307692307694\n",
      "distinction 271\n",
      "firstclass 245\n",
      "second class 125\n",
      "third class 135\n",
      "fail 524\n"
     ]
    },
    {
     "data": {
      "text/plain": [
       "0.0019123409997519047"
      ]
     },
     "execution_count": 6,
     "metadata": {},
     "output_type": "execute_result"
    }
   ],
   "source": [
    "import timeit\n",
    "def readfiledata(filename):\n",
    "    with open (filename,'r') as marksfile:\n",
    "        start=timeit.default_timer()\n",
    "        sum=0\n",
    "        c=d=e=f=g=0\n",
    "        a=[]\n",
    "        for i in range(0,1300):\n",
    "            a.append(int(marksfile.readline()))\n",
    "        print(max(a))\n",
    "        print(min(a))\n",
    "        for i in range(0,len(a)):\n",
    "            sum=sum+a[i]\n",
    "        average=sum/1300\n",
    "        print(average)\n",
    "        for i in range (0,len(a)):\n",
    "            if a[i]>=80:\n",
    "                c=c+1\n",
    "            if 60<=a[i]<80:\n",
    "                d=d+1\n",
    "            if 50<=a[i]<60:\n",
    "                e=e+1\n",
    "            if 40<=a[i]<50:\n",
    "                f=f+1\n",
    "            if a[i]<40:\n",
    "                g=g+1\n",
    "        print('distinction',c)\n",
    "        print('firstclass',d)\n",
    "        print('second class',e)\n",
    "        print('third class',f)\n",
    "        print('fail',g)\n",
    "        return timeit.default_timer() - start   \n",
    "            \n",
    "        \n",
    "readfiledata('Datafiles/Mark1300.txt')"
   ]
  },
  {
   "cell_type": "code",
   "execution_count": 1,
   "metadata": {},
   "outputs": [
    {
     "name": "stdout",
     "output_type": "stream",
     "text": [
      "8.679200000116793e-05\n"
     ]
    },
    {
     "data": {
      "text/plain": [
       "[1.0, 2.0, 3.0, 4.0, 5.0, 6.0]"
      ]
     },
     "execution_count": 1,
     "metadata": {},
     "output_type": "execute_result"
    }
   ],
   "source": [
    "import timeit\n",
    "def square(n):\n",
    "    return n*n\n",
    "st=timeit.default_timer()\n",
    "li = [1,2,3,4,5,6]\n",
    "#s=str(li)\n",
    "#s=list(map(str,li))\n",
    "#s=list(map(square,li))\n",
    "#s[3]\n",
    "\n",
    "s=list(map(str,li))\n",
    "s=[float(i) for i in s]\n",
    "print(timeit.default_timer()-st)\n",
    "s"
   ]
  },
  {
   "cell_type": "markdown",
   "metadata": {},
   "source": [
    "### External Libraries"
   ]
  },
  {
   "cell_type": "markdown",
   "metadata": {},
   "source": [
    "#### Numpy"
   ]
  },
  {
   "cell_type": "code",
   "execution_count": 12,
   "metadata": {},
   "outputs": [
    {
     "name": "stdout",
     "output_type": "stream",
     "text": [
      "[[ 0  2  4]\n",
      " [ 6  8 10]]\n"
     ]
    },
    {
     "data": {
      "text/plain": [
       "numpy.ndarray"
      ]
     },
     "execution_count": 12,
     "metadata": {},
     "output_type": "execute_result"
    }
   ],
   "source": [
    "import numpy as np\n",
    "\n",
    "a=np.array([[0,1,2],[3,4,5]])\n",
    "b=np.array([[0,1,2],[3,4,5]])\n",
    "\n",
    "\n",
    "\n",
    "\n",
    "print(a+b)\n",
    "type(a)"
   ]
  }
 ],
 "metadata": {
  "kernelspec": {
   "display_name": "Python 3",
   "language": "python",
   "name": "python3"
  },
  "language_info": {
   "codemirror_mode": {
    "name": "ipython",
    "version": 3
   },
   "file_extension": ".py",
   "mimetype": "text/x-python",
   "name": "python",
   "nbconvert_exporter": "python",
   "pygments_lexer": "ipython3",
   "version": "3.7.3"
  }
 },
 "nbformat": 4,
 "nbformat_minor": 2
}
