{
 "cells": [
  {
   "cell_type": "markdown",
   "metadata": {},
   "source": [
    "# Problem solving and programming\n",
    "## Day no - \n",
    "## Date- "
   ]
  },
  {
   "cell_type": "markdown",
   "metadata": {},
   "source": [
    "### day objectives\n",
    "    *objective 1\n",
    "    *objective 2\n",
    "    *objective 3"
   ]
  },
  {
   "cell_type": "markdown",
   "metadata": {},
   "source": [
    "### problem 1:\n",
    "#### problem statement\n",
    "\n",
    "#### constraints\n",
    "####  Test cases\n",
    "    * Test case 1\n",
    "    * Test case 2 \n",
    "    * Test case 3"
   ]
  },
  {
   "cell_type": "code",
   "execution_count": 1,
   "metadata": {},
   "outputs": [
    {
     "data": {
      "text/plain": [
       "820"
      ]
     },
     "execution_count": 1,
     "metadata": {},
     "output_type": "execute_result"
    }
   ],
   "source": [
    "def dateDifference(date1,date2):\n",
    "    if yearFromDate(date1)==yearFromDate(date2):\n",
    "        return abs((totalDaysDate(date1)-totalDaysDate(date2)))\n",
    "    elif yearFromDate(date2)-yearFromDate(date1) ==1:\n",
    "        return totalDaysDateEndYear(date1)+totalDaysDate(date2)\n",
    "    else:\n",
    "        sum =totalDaysDateEndYear(date1)+totalDaysDate(date2)\n",
    "        year1 = yearFromDate(date1)\n",
    "        year2 = yearFromDate(date2)\n",
    "        for i in range(year1+1,year2):\n",
    "            sum += numDaysInYear(i)\n",
    "        return sum\n",
    "           \n",
    "        \n",
    "def daysinFeb(year): \n",
    "    '''\n",
    "    import calender\n",
    "    return calender.isleap(year)\n",
    "    '''\n",
    "    \n",
    "    if(year%400==0) or (year%100!=0 and year%4==0):\n",
    "        return 29\n",
    "    return 28\n",
    "\n",
    "def numDaysInMonth(month,year):\n",
    "    monthDays = {'01':31, '03':31, '04':30, '05':31, '06':30, '08':31, '09':30, '10':31, '11':30, '12':31 }\n",
    "    if(month==2):\n",
    "        return daysinFeb(year)\n",
    "    elif(month<7 and month!=2 and month%2==0) or (month>7 and month%2!=0):\n",
    "        return 30        \n",
    "    else:\n",
    "        return 31\n",
    "\n",
    "def numDaysInYear(year):\n",
    "    if daysinFeb(year)==29:\n",
    "        return 366\n",
    "    return 365\n",
    "\n",
    "def totalDaysDate(date):\n",
    "    year = int(date[:4])\n",
    "    month = int(date[5:7])\n",
    "    day = int(date[len(date)-2:])\n",
    "    sum=0\n",
    "    for i in range(1,month):\n",
    "        sum += numDaysInMonth(i,year)\n",
    "    sum +=day\n",
    "    return sum\n",
    "\n",
    "def totalDaysDateEndYear(date):\n",
    "    year = yearFromDate(date)\n",
    "    month = monthFromDate(date)\n",
    "    day = daysFromDate(date)\n",
    "    sum=0\n",
    "    for i in range(month,13):\n",
    "        sum += numDaysInMonth(i,year)\n",
    "    sum += numDaysInMonth(month,year)\n",
    "    return sum\n",
    "\n",
    "def yearFromDate(date):\n",
    "    return int(date[:4])\n",
    "\n",
    "def monthFromDate(date):\n",
    "    return int(date[5:7])\n",
    "\n",
    "def daysFromDate(date):\n",
    "    return int(date[len(date)-2])\n",
    "    \n",
    "dateDifference('0001:01:31','0003:02:28')\n",
    "\n",
    "#totalDaysDateEndYear('0001:01:01')\n"
   ]
  },
  {
   "cell_type": "code",
   "execution_count": 1,
   "metadata": {},
   "outputs": [
    {
     "ename": "NameError",
     "evalue": "name 'yearFromDate' is not defined",
     "output_type": "error",
     "traceback": [
      "\u001b[1;31m---------------------------------------------------------------------------\u001b[0m",
      "\u001b[1;31mNameError\u001b[0m                                 Traceback (most recent call last)",
      "\u001b[1;32m<ipython-input-1-4dc18600c602>\u001b[0m in \u001b[0;36m<module>\u001b[1;34m\u001b[0m\n\u001b[0;32m     11\u001b[0m     \u001b[0mprint\u001b[0m\u001b[1;33m(\u001b[0m\u001b[0md2\u001b[0m\u001b[1;33m-\u001b[0m\u001b[0md1\u001b[0m\u001b[1;33m)\u001b[0m\u001b[1;33m\u001b[0m\u001b[1;33m\u001b[0m\u001b[0m\n\u001b[0;32m     12\u001b[0m     \u001b[1;32mreturn\u001b[0m\u001b[1;33m\u001b[0m\u001b[1;33m\u001b[0m\u001b[0m\n\u001b[1;32m---> 13\u001b[1;33m \u001b[0mdateDifference2\u001b[0m\u001b[1;33m(\u001b[0m\u001b[1;34m'0001:01:31'\u001b[0m\u001b[1;33m,\u001b[0m\u001b[1;34m'0003:02:28'\u001b[0m\u001b[1;33m)\u001b[0m\u001b[1;33m\u001b[0m\u001b[1;33m\u001b[0m\u001b[0m\n\u001b[0m",
      "\u001b[1;32m<ipython-input-1-4dc18600c602>\u001b[0m in \u001b[0;36mdateDifference2\u001b[1;34m(date1, date2)\u001b[0m\n\u001b[0;32m      1\u001b[0m \u001b[1;32mfrom\u001b[0m \u001b[0mdatetime\u001b[0m \u001b[1;32mimport\u001b[0m \u001b[0mdate\u001b[0m\u001b[1;33m,\u001b[0m\u001b[0mdatetime\u001b[0m\u001b[1;33m\u001b[0m\u001b[1;33m\u001b[0m\u001b[0m\n\u001b[0;32m      2\u001b[0m \u001b[1;32mdef\u001b[0m \u001b[0mdateDifference2\u001b[0m\u001b[1;33m(\u001b[0m\u001b[0mdate1\u001b[0m\u001b[1;33m,\u001b[0m\u001b[0mdate2\u001b[0m\u001b[1;33m)\u001b[0m\u001b[1;33m:\u001b[0m\u001b[1;33m\u001b[0m\u001b[1;33m\u001b[0m\u001b[0m\n\u001b[1;32m----> 3\u001b[1;33m     \u001b[0myear1\u001b[0m \u001b[1;33m=\u001b[0m \u001b[0myearFromDate\u001b[0m\u001b[1;33m(\u001b[0m\u001b[0mdate1\u001b[0m\u001b[1;33m)\u001b[0m\u001b[1;33m\u001b[0m\u001b[1;33m\u001b[0m\u001b[0m\n\u001b[0m\u001b[0;32m      4\u001b[0m     \u001b[0mmonth1\u001b[0m \u001b[1;33m=\u001b[0m \u001b[0mmonthFromDate\u001b[0m\u001b[1;33m(\u001b[0m\u001b[0mdate1\u001b[0m\u001b[1;33m)\u001b[0m\u001b[1;33m\u001b[0m\u001b[1;33m\u001b[0m\u001b[0m\n\u001b[0;32m      5\u001b[0m     \u001b[0mday1\u001b[0m \u001b[1;33m=\u001b[0m \u001b[0mdaysFromDate\u001b[0m\u001b[1;33m(\u001b[0m\u001b[0mdate1\u001b[0m\u001b[1;33m)\u001b[0m\u001b[1;33m\u001b[0m\u001b[1;33m\u001b[0m\u001b[0m\n",
      "\u001b[1;31mNameError\u001b[0m: name 'yearFromDate' is not defined"
     ]
    }
   ],
   "source": [
    "from datetime import date,datetime\n",
    "def dateDifference2(date1,date2):\n",
    "    year1 = yearFromDate(date1)\n",
    "    month1 = monthFromDate(date1)\n",
    "    day1 = daysFromDate(date1)\n",
    "    year2 = yearFromDate(date2)\n",
    "    month2 = monthFromDate(date2)\n",
    "    day2 = daysFromDate(date2)\n",
    "    d1 = date(year=year1,month=month1,day=day1)\n",
    "    d2 = date(year=year2,month=month2,day=day2)\n",
    "    print(d2-d1)\n",
    "    return\n",
    "dateDifference2('0001:01:31','0003:02:28')"
   ]
  },
  {
   "cell_type": "code",
   "execution_count": null,
   "metadata": {},
   "outputs": [],
   "source": []
  }
 ],
 "metadata": {
  "kernelspec": {
   "display_name": "Python 3",
   "language": "python",
   "name": "python3"
  },
  "language_info": {
   "codemirror_mode": {
    "name": "ipython",
    "version": 3
   },
   "file_extension": ".py",
   "mimetype": "text/x-python",
   "name": "python",
   "nbconvert_exporter": "python",
   "pygments_lexer": "ipython3",
   "version": "3.7.3"
  }
 },
 "nbformat": 4,
 "nbformat_minor": 2
}
